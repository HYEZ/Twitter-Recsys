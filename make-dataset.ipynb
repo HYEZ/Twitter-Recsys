{
 "cells": [
  {
   "cell_type": "markdown",
   "metadata": {},
   "source": [
    "## 데이터셋 자르기"
   ]
  },
  {
   "cell_type": "code",
   "execution_count": null,
   "metadata": {},
   "outputs": [],
   "source": [
    "import pandas as pd\n",
    "\n",
    "TRAIN_DATA = \"/Volumes/Seagate Backup Plus Drive/ACM_RecSys/training.tsv\"\n",
    "VAL_DATA = \"/Volumes/Seagate Backup Plus Drive/ACM_RecSys/val.tsv\"\n",
    "TEST_DATA = \"/Volumes/Seagate Backup Plus Drive/ACM_RecSys/test.tsv\"\n",
    "\n",
    "COLUMNS = [\"text_tokens\", \"hashtags\", \"present_media\", \"present_links\", \"present_domains\"]\n",
    "\n",
    "COLUMNS_WITH_LABEL = [\"text_tokens\", \"hashtags\", \"tweet_id\", \"present_media\", \n",
    "                      \"present_links\", \"tweet_type\", \"language\", \"tweet_timestamp\", \"engaged_with_user_id\",\n",
    "                     \"engaged_with_user_follower_count\", \"engaged_with_user_following_count\", \n",
    "                     \"engaged_with_user_is_verified\", \"engaged_with_user_account_creation\", \"engaging_user_id\",\n",
    "                     \"engaging_user_follower_count\", \"engaging_user_following_count\", \"engaging_user_is_verified\",\n",
    "                     \"engaging_user_account_creation\", \"engagee_follows_engager\", \"reply_timestamp\",\n",
    "                     \"retweet_timestamp\", \"retweet_with_comment_timestamp\", \"like_timestamp\"]\n",
    "\n",
    "\n",
    "df_train = pd.read_csv(TRAIN_DATA,  sep='\\x01', encoding='utf-8')\n",
    "df_val = pd.read_csv(VAL_DATA,  sep='\\x01', encoding='utf-8')\n",
    "df_test = pd.read_csv(TEST_DATA,  sep='\\x01', encoding='utf-8')"
   ]
  },
  {
   "cell_type": "code",
   "execution_count": null,
   "metadata": {},
   "outputs": [],
   "source": [
    "trainset = df_train.head(100000)\n",
    "trainset.to_csv(\"../dataset/twitter/training100K.csv\")"
   ]
  },
  {
   "cell_type": "code",
   "execution_count": null,
   "metadata": {},
   "outputs": [],
   "source": [
    "valset = df_val.head(10000)\n",
    "valset.to_csv(\"../dataset/twitter/val10K.csv\")"
   ]
  },
  {
   "cell_type": "code",
   "execution_count": null,
   "metadata": {},
   "outputs": [],
   "source": [
    "testset = df_test.head(10000)\n",
    "testset.to_csv(\"../dataset/twitter/test10K.csv\")"
   ]
  },
  {
   "cell_type": "code",
   "execution_count": null,
   "metadata": {},
   "outputs": [],
   "source": []
  }
 ],
 "metadata": {
  "kernelspec": {
   "display_name": "Python 3",
   "language": "python",
   "name": "python3"
  },
  "language_info": {
   "codemirror_mode": {
    "name": "ipython",
    "version": 3
   },
   "file_extension": ".py",
   "mimetype": "text/x-python",
   "name": "python",
   "nbconvert_exporter": "python",
   "pygments_lexer": "ipython3",
   "version": "3.6.10"
  }
 },
 "nbformat": 4,
 "nbformat_minor": 4
}
